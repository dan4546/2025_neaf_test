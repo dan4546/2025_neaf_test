{
 "cells": [
  {
   "cell_type": "code",
   "execution_count": 5,
   "id": "0f783c67",
   "metadata": {},
   "outputs": [],
   "source": [
    "import numpy as np\n",
    "import pandas as pd\n",
    "import matplotlib.pyplot as plt\n",
    "\n",
    "# 生成rgb三種顏色的10*20圖片\n",
    "# 需要彩色和黑白的 (總共要印6張圖)\n",
    "# 顏色深淺用random決定\n",
    "# 計算每張圖的平均值、標準差、最大值、最小值 存成excel檔\n",
    "# 以下是範例\n",
    "\n",
    "# 提示 img=np.random.randint(?,?, size=(?,?,?), dtype=np.uint8)\n",
    "# 印出來看看 img[:,:,1]=0 長怎樣 是什麼顏色\n",
    "\n"
   ]
  },
  {
   "cell_type": "code",
   "execution_count": 30,
   "id": "9f3d0940",
   "metadata": {},
   "outputs": [
    {
     "data": {
      "image/png": "[encoded data removed]",
      "text/plain": [
       "<Figure size 640x480 with 6 Axes>"
      ]
     },
     "metadata": {},
     "output_type": "display_data"
    }
   ],
   "source": [
    "# 各色10x10雜訊方塊\n",
    "import numpy as np\n",
    "import matplotlib.pyplot as plt\n",
    "one = np.random.randint(0, 255, size=(10, 20), dtype=np.uint8)\n",
    "zero = np.zeros((10, 20), dtype=np.uint8)\n",
    "two = np.random.randint(0, 255, size=(10, 20), dtype=np.uint8)\n",
    "three = np.random.randint(0, 255, size=(10, 20), dtype=np.uint8)\n",
    "img_1 = np.stack((one, zero, zero), axis=-1)    # 紅色\n",
    "plt.subplot(2,6,1)\n",
    "plt.imshow(img_1)\n",
    "img_2 = np.stack((zero, two, zero), axis=-1)    # 綠色\n",
    "plt.subplot(2,6,2)\n",
    "plt.imshow(img_2)\n",
    "img_3 = np.stack((zero, zero, three), axis=-1)    # 藍色\n",
    "plt.subplot(2,6,3)\n",
    "plt.imshow(img_3)\n",
    "# (r,g,b)\n",
    "# 數值0~255\n",
    "gray_images1 = np.mean(img_1, axis=2).astype(np.uint8)\n",
    "plt.subplot(1,6,1)\n",
    "plt.imshow(gray_images1, cmap='gray')\n",
    "max_val = np.max(gray_images1)\n",
    "min_val = np.min(image_gray)  # 取得最小值\n",
    "mean_val = np.mean(image_gray)  # 取得平均亮度\n",
    "std_val = np.std(image_gray)  # 取得亮度的標準差\n",
    "\n",
    "gray_images2 = np.mean(img_2, axis=2).astype(np.uint8)\n",
    "plt.subplot(1,6,2)\n",
    "plt.imshow(gray_images2, cmap='gray')\n",
    "max_val = np.max(gray_images2)\n",
    "min_val = np.min(image_gray)  # 取得最小值\n",
    "mean_val = np.mean(image_gray)  # 取得平均亮度\n",
    "std_val = np.std(image_gray)  # 取得亮度的標準差\n",
    "\n",
    "gray_images3 = np.mean(img_3, axis=2).astype(np.uint8)\n",
    "plt.subplot(1,6,3)\n",
    "plt.imshow(gray_images3, cmap='gray')\n",
    "max_val = np.max(gray_images3)\n",
    "\n"
   ]
  }
 ],
 "metadata": {
  "kernelspec": {
   "display_name": "3.12.0",
   "language": "python",
   "name": "python3"
  },
  "language_info": {
   "codemirror_mode": {
    "name": "ipython",
    "version": 3
   },
   "file_extension": ".py",
   "mimetype": "text/x-python",
   "name": "python",
   "nbconvert_exporter": "python",
   "pygments_lexer": "ipython3",
   "version": "3.12.0"
  }
 },
 "nbformat": 4,
 "nbformat_minor": 5
}
